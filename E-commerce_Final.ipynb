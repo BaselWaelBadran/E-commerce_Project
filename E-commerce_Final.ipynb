{
 "cells": [
  {
   "cell_type": "code",
   "execution_count": 36,
   "id": "842a4521",
   "metadata": {},
   "outputs": [],
   "source": [
    "import pandas as pd\n",
    "import numpy as np\n",
    "from sklearn.cluster import KMeans\n",
    "from sklearn.metrics import silhouette_score\n",
    "import matplotlib.pyplot as plt"
   ]
  },
  {
   "cell_type": "code",
   "execution_count": 37,
   "id": "9fd16e7c",
   "metadata": {},
   "outputs": [],
   "source": [
    "customers = pd.read_excel(\"E-commerce_data.xlsx\",sheet_name=\"customers\")\n",
    "genders = pd.read_excel(\"E-commerce_data.xlsx\",sheet_name=\"genders\")\n",
    "cities = pd.read_excel(\"E-commerce_data.xlsx\",sheet_name=\"cities\")\n",
    "transactions = pd.read_excel(\"E-commerce_data.xlsx\",sheet_name=\"transactions\")\n",
    "branches = pd.read_excel(\"E-commerce_data.xlsx\",sheet_name=\"branches\")\n",
    "merchants = pd.read_excel(\"E-commerce_data.xlsx\",sheet_name=\"merchants\")"
   ]
  },
  {
   "cell_type": "code",
   "execution_count": 38,
   "id": "069948f6",
   "metadata": {},
   "outputs": [
    {
     "data": {
      "text/plain": [
       "customer_id    0\n",
       "join_date      0\n",
       "city_id        0\n",
       "gender_id      0\n",
       "dtype: int64"
      ]
     },
     "execution_count": 38,
     "metadata": {},
     "output_type": "execute_result"
    }
   ],
   "source": [
    "customers.isnull().sum()"
   ]
  },
  {
   "cell_type": "code",
   "execution_count": 39,
   "id": "8d27d579",
   "metadata": {},
   "outputs": [
    {
     "data": {
      "text/plain": [
       "gender_id      0\n",
       "gender_name    0\n",
       "dtype: int64"
      ]
     },
     "execution_count": 39,
     "metadata": {},
     "output_type": "execute_result"
    }
   ],
   "source": [
    "genders.isnull().sum()"
   ]
  },
  {
   "cell_type": "code",
   "execution_count": 40,
   "id": "64470524",
   "metadata": {},
   "outputs": [
    {
     "data": {
      "text/plain": [
       "city_id      0\n",
       "city_name    0\n",
       "dtype: int64"
      ]
     },
     "execution_count": 40,
     "metadata": {},
     "output_type": "execute_result"
    }
   ],
   "source": [
    "cities.isnull().sum()"
   ]
  },
  {
   "cell_type": "code",
   "execution_count": 41,
   "id": "17994b04",
   "metadata": {},
   "outputs": [
    {
     "data": {
      "text/plain": [
       "transaction_id           0\n",
       "customer_id              0\n",
       "transaction_date         0\n",
       "transaction_status       0\n",
       "coupon_name              0\n",
       "burn_date             2484\n",
       "branch_id                0\n",
       "dtype: int64"
      ]
     },
     "execution_count": 41,
     "metadata": {},
     "output_type": "execute_result"
    }
   ],
   "source": [
    "transactions.isnull().sum()"
   ]
  },
  {
   "cell_type": "code",
   "execution_count": 42,
   "id": "c5bf1402",
   "metadata": {},
   "outputs": [],
   "source": [
    "transactions.drop([\"burn_date\"], axis=1, inplace=True)    # Removing column with null values"
   ]
  },
  {
   "cell_type": "code",
   "execution_count": 43,
   "id": "38ebfa05",
   "metadata": {},
   "outputs": [
    {
     "data": {
      "text/plain": [
       "transaction_id        0\n",
       "customer_id           0\n",
       "transaction_date      0\n",
       "transaction_status    0\n",
       "coupon_name           0\n",
       "branch_id             0\n",
       "dtype: int64"
      ]
     },
     "execution_count": 43,
     "metadata": {},
     "output_type": "execute_result"
    }
   ],
   "source": [
    "transactions.isnull().sum()"
   ]
  },
  {
   "cell_type": "code",
   "execution_count": 44,
   "id": "1dce538f",
   "metadata": {},
   "outputs": [
    {
     "data": {
      "text/plain": [
       "branch_id      0\n",
       "merchant_id    0\n",
       "dtype: int64"
      ]
     },
     "execution_count": 44,
     "metadata": {},
     "output_type": "execute_result"
    }
   ],
   "source": [
    "branches.isnull().sum()"
   ]
  },
  {
   "cell_type": "code",
   "execution_count": 45,
   "id": "70108f19",
   "metadata": {},
   "outputs": [
    {
     "data": {
      "text/plain": [
       "merchant_id      0\n",
       "merchant_name    0\n",
       "dtype: int64"
      ]
     },
     "execution_count": 45,
     "metadata": {},
     "output_type": "execute_result"
    }
   ],
   "source": [
    "merchants.isnull().sum()"
   ]
  },
  {
   "cell_type": "code",
   "execution_count": 46,
   "id": "da026650",
   "metadata": {},
   "outputs": [],
   "source": [
    "merged_df = pd.merge(customers, transactions, on='customer_id', how='inner')"
   ]
  },
  {
   "cell_type": "code",
   "execution_count": 47,
   "id": "ed875db4",
   "metadata": {},
   "outputs": [
    {
     "data": {
      "text/html": [
       "<div>\n",
       "<style scoped>\n",
       "    .dataframe tbody tr th:only-of-type {\n",
       "        vertical-align: middle;\n",
       "    }\n",
       "\n",
       "    .dataframe tbody tr th {\n",
       "        vertical-align: top;\n",
       "    }\n",
       "\n",
       "    .dataframe thead th {\n",
       "        text-align: right;\n",
       "    }\n",
       "</style>\n",
       "<table border=\"1\" class=\"dataframe\">\n",
       "  <thead>\n",
       "    <tr style=\"text-align: right;\">\n",
       "      <th></th>\n",
       "      <th>customer_id</th>\n",
       "      <th>join_date</th>\n",
       "      <th>city_id</th>\n",
       "      <th>gender_id</th>\n",
       "      <th>transaction_id</th>\n",
       "      <th>transaction_date</th>\n",
       "      <th>transaction_status</th>\n",
       "      <th>coupon_name</th>\n",
       "      <th>branch_id</th>\n",
       "    </tr>\n",
       "  </thead>\n",
       "  <tbody>\n",
       "    <tr>\n",
       "      <th>0</th>\n",
       "      <td>1</td>\n",
       "      <td>2022-01-08</td>\n",
       "      <td>7</td>\n",
       "      <td>1</td>\n",
       "      <td>178</td>\n",
       "      <td>2022-07-30</td>\n",
       "      <td>subscribed</td>\n",
       "      <td>SrP-866</td>\n",
       "      <td>8</td>\n",
       "    </tr>\n",
       "    <tr>\n",
       "      <th>1</th>\n",
       "      <td>1</td>\n",
       "      <td>2022-01-08</td>\n",
       "      <td>7</td>\n",
       "      <td>1</td>\n",
       "      <td>257</td>\n",
       "      <td>2022-09-19</td>\n",
       "      <td>burned</td>\n",
       "      <td>krI-075</td>\n",
       "      <td>1</td>\n",
       "    </tr>\n",
       "    <tr>\n",
       "      <th>2</th>\n",
       "      <td>1</td>\n",
       "      <td>2022-01-08</td>\n",
       "      <td>7</td>\n",
       "      <td>1</td>\n",
       "      <td>1652</td>\n",
       "      <td>2022-06-09</td>\n",
       "      <td>burned</td>\n",
       "      <td>quk-137</td>\n",
       "      <td>6</td>\n",
       "    </tr>\n",
       "    <tr>\n",
       "      <th>3</th>\n",
       "      <td>1</td>\n",
       "      <td>2022-01-08</td>\n",
       "      <td>7</td>\n",
       "      <td>1</td>\n",
       "      <td>1929</td>\n",
       "      <td>2022-07-30</td>\n",
       "      <td>burned</td>\n",
       "      <td>QiG-754</td>\n",
       "      <td>8</td>\n",
       "    </tr>\n",
       "    <tr>\n",
       "      <th>4</th>\n",
       "      <td>1</td>\n",
       "      <td>2022-01-08</td>\n",
       "      <td>7</td>\n",
       "      <td>1</td>\n",
       "      <td>2352</td>\n",
       "      <td>2023-03-24</td>\n",
       "      <td>subscribed</td>\n",
       "      <td>OtC-985</td>\n",
       "      <td>4</td>\n",
       "    </tr>\n",
       "  </tbody>\n",
       "</table>\n",
       "</div>"
      ],
      "text/plain": [
       "   customer_id  join_date  city_id  gender_id  transaction_id  \\\n",
       "0            1 2022-01-08        7          1             178   \n",
       "1            1 2022-01-08        7          1             257   \n",
       "2            1 2022-01-08        7          1            1652   \n",
       "3            1 2022-01-08        7          1            1929   \n",
       "4            1 2022-01-08        7          1            2352   \n",
       "\n",
       "  transaction_date transaction_status coupon_name  branch_id  \n",
       "0       2022-07-30         subscribed     SrP-866          8  \n",
       "1       2022-09-19             burned     krI-075          1  \n",
       "2       2022-06-09             burned     quk-137          6  \n",
       "3       2022-07-30             burned     QiG-754          8  \n",
       "4       2023-03-24         subscribed     OtC-985          4  "
      ]
     },
     "execution_count": 47,
     "metadata": {},
     "output_type": "execute_result"
    }
   ],
   "source": [
    "merged_df.head()"
   ]
  },
  {
   "cell_type": "code",
   "execution_count": 48,
   "id": "bf4312e6",
   "metadata": {},
   "outputs": [],
   "source": [
    "# Calculate the number of transactions per customer\n",
    "transaction_counts = merged_df.groupby('customer_id')['transaction_id'].count().reset_index()\n",
    "transaction_counts.columns = ['customer_id', 'transaction_count']"
   ]
  },
  {
   "cell_type": "code",
   "execution_count": 49,
   "id": "318bdf5f",
   "metadata": {},
   "outputs": [
    {
     "data": {
      "text/html": [
       "<div>\n",
       "<style scoped>\n",
       "    .dataframe tbody tr th:only-of-type {\n",
       "        vertical-align: middle;\n",
       "    }\n",
       "\n",
       "    .dataframe tbody tr th {\n",
       "        vertical-align: top;\n",
       "    }\n",
       "\n",
       "    .dataframe thead th {\n",
       "        text-align: right;\n",
       "    }\n",
       "</style>\n",
       "<table border=\"1\" class=\"dataframe\">\n",
       "  <thead>\n",
       "    <tr style=\"text-align: right;\">\n",
       "      <th></th>\n",
       "      <th>customer_id</th>\n",
       "      <th>transaction_count</th>\n",
       "    </tr>\n",
       "  </thead>\n",
       "  <tbody>\n",
       "    <tr>\n",
       "      <th>0</th>\n",
       "      <td>1</td>\n",
       "      <td>7</td>\n",
       "    </tr>\n",
       "    <tr>\n",
       "      <th>1</th>\n",
       "      <td>2</td>\n",
       "      <td>3</td>\n",
       "    </tr>\n",
       "    <tr>\n",
       "      <th>2</th>\n",
       "      <td>3</td>\n",
       "      <td>5</td>\n",
       "    </tr>\n",
       "    <tr>\n",
       "      <th>3</th>\n",
       "      <td>4</td>\n",
       "      <td>1</td>\n",
       "    </tr>\n",
       "    <tr>\n",
       "      <th>4</th>\n",
       "      <td>5</td>\n",
       "      <td>4</td>\n",
       "    </tr>\n",
       "    <tr>\n",
       "      <th>...</th>\n",
       "      <td>...</td>\n",
       "      <td>...</td>\n",
       "    </tr>\n",
       "    <tr>\n",
       "      <th>984</th>\n",
       "      <td>996</td>\n",
       "      <td>3</td>\n",
       "    </tr>\n",
       "    <tr>\n",
       "      <th>985</th>\n",
       "      <td>997</td>\n",
       "      <td>3</td>\n",
       "    </tr>\n",
       "    <tr>\n",
       "      <th>986</th>\n",
       "      <td>998</td>\n",
       "      <td>4</td>\n",
       "    </tr>\n",
       "    <tr>\n",
       "      <th>987</th>\n",
       "      <td>999</td>\n",
       "      <td>4</td>\n",
       "    </tr>\n",
       "    <tr>\n",
       "      <th>988</th>\n",
       "      <td>1000</td>\n",
       "      <td>2</td>\n",
       "    </tr>\n",
       "  </tbody>\n",
       "</table>\n",
       "<p>989 rows × 2 columns</p>\n",
       "</div>"
      ],
      "text/plain": [
       "     customer_id  transaction_count\n",
       "0              1                  7\n",
       "1              2                  3\n",
       "2              3                  5\n",
       "3              4                  1\n",
       "4              5                  4\n",
       "..           ...                ...\n",
       "984          996                  3\n",
       "985          997                  3\n",
       "986          998                  4\n",
       "987          999                  4\n",
       "988         1000                  2\n",
       "\n",
       "[989 rows x 2 columns]"
      ]
     },
     "execution_count": 49,
     "metadata": {},
     "output_type": "execute_result"
    }
   ],
   "source": [
    "transaction_counts"
   ]
  },
  {
   "cell_type": "code",
   "execution_count": 50,
   "id": "40132698",
   "metadata": {},
   "outputs": [
    {
     "data": {
      "text/html": [
       "<div>\n",
       "<style scoped>\n",
       "    .dataframe tbody tr th:only-of-type {\n",
       "        vertical-align: middle;\n",
       "    }\n",
       "\n",
       "    .dataframe tbody tr th {\n",
       "        vertical-align: top;\n",
       "    }\n",
       "\n",
       "    .dataframe thead th {\n",
       "        text-align: right;\n",
       "    }\n",
       "</style>\n",
       "<table border=\"1\" class=\"dataframe\">\n",
       "  <thead>\n",
       "    <tr style=\"text-align: right;\">\n",
       "      <th></th>\n",
       "      <th>customer_id</th>\n",
       "      <th>burn_rate</th>\n",
       "    </tr>\n",
       "  </thead>\n",
       "  <tbody>\n",
       "    <tr>\n",
       "      <th>984</th>\n",
       "      <td>996</td>\n",
       "      <td>0.000000</td>\n",
       "    </tr>\n",
       "    <tr>\n",
       "      <th>985</th>\n",
       "      <td>997</td>\n",
       "      <td>0.333333</td>\n",
       "    </tr>\n",
       "    <tr>\n",
       "      <th>986</th>\n",
       "      <td>998</td>\n",
       "      <td>0.750000</td>\n",
       "    </tr>\n",
       "    <tr>\n",
       "      <th>987</th>\n",
       "      <td>999</td>\n",
       "      <td>1.000000</td>\n",
       "    </tr>\n",
       "    <tr>\n",
       "      <th>988</th>\n",
       "      <td>1000</td>\n",
       "      <td>0.500000</td>\n",
       "    </tr>\n",
       "  </tbody>\n",
       "</table>\n",
       "</div>"
      ],
      "text/plain": [
       "     customer_id  burn_rate\n",
       "984          996   0.000000\n",
       "985          997   0.333333\n",
       "986          998   0.750000\n",
       "987          999   1.000000\n",
       "988         1000   0.500000"
      ]
     },
     "execution_count": 50,
     "metadata": {},
     "output_type": "execute_result"
    }
   ],
   "source": [
    "# Calculate coupon usage frequency (burned vs subscribed)\n",
    "coupon_usage = merged_df.groupby('customer_id')['transaction_status'].apply(\n",
    "    lambda x: (x == 'burned').mean()).reset_index()\n",
    "coupon_usage.columns = ['customer_id', 'burn_rate']\n",
    "coupon_usage.tail()"
   ]
  },
  {
   "cell_type": "code",
   "execution_count": 51,
   "id": "dd4df6e8",
   "metadata": {},
   "outputs": [],
   "source": [
    "# Merge these engineered features back to the dataset\n",
    "processed_df = pd.merge(merged_df, transaction_counts, on='customer_id', how='left')\n",
    "processed_df = pd.merge(processed_df, coupon_usage, on='customer_id', how='left')"
   ]
  },
  {
   "cell_type": "code",
   "execution_count": 52,
   "id": "22897cb7",
   "metadata": {},
   "outputs": [
    {
     "data": {
      "text/html": [
       "<div>\n",
       "<style scoped>\n",
       "    .dataframe tbody tr th:only-of-type {\n",
       "        vertical-align: middle;\n",
       "    }\n",
       "\n",
       "    .dataframe tbody tr th {\n",
       "        vertical-align: top;\n",
       "    }\n",
       "\n",
       "    .dataframe thead th {\n",
       "        text-align: right;\n",
       "    }\n",
       "</style>\n",
       "<table border=\"1\" class=\"dataframe\">\n",
       "  <thead>\n",
       "    <tr style=\"text-align: right;\">\n",
       "      <th></th>\n",
       "      <th>customer_id</th>\n",
       "      <th>join_date</th>\n",
       "      <th>city_id</th>\n",
       "      <th>gender_id</th>\n",
       "      <th>transaction_id</th>\n",
       "      <th>transaction_date</th>\n",
       "      <th>transaction_status</th>\n",
       "      <th>coupon_name</th>\n",
       "      <th>branch_id</th>\n",
       "      <th>transaction_count</th>\n",
       "      <th>burn_rate</th>\n",
       "    </tr>\n",
       "  </thead>\n",
       "  <tbody>\n",
       "    <tr>\n",
       "      <th>0</th>\n",
       "      <td>1</td>\n",
       "      <td>2022-01-08</td>\n",
       "      <td>7</td>\n",
       "      <td>1</td>\n",
       "      <td>178</td>\n",
       "      <td>2022-07-30</td>\n",
       "      <td>subscribed</td>\n",
       "      <td>SrP-866</td>\n",
       "      <td>8</td>\n",
       "      <td>0.407599</td>\n",
       "      <td>-0.340281</td>\n",
       "    </tr>\n",
       "    <tr>\n",
       "      <th>1</th>\n",
       "      <td>1</td>\n",
       "      <td>2022-01-08</td>\n",
       "      <td>7</td>\n",
       "      <td>1</td>\n",
       "      <td>257</td>\n",
       "      <td>2022-09-19</td>\n",
       "      <td>burned</td>\n",
       "      <td>krI-075</td>\n",
       "      <td>1</td>\n",
       "      <td>0.407599</td>\n",
       "      <td>-0.340281</td>\n",
       "    </tr>\n",
       "    <tr>\n",
       "      <th>2</th>\n",
       "      <td>1</td>\n",
       "      <td>2022-01-08</td>\n",
       "      <td>7</td>\n",
       "      <td>1</td>\n",
       "      <td>1652</td>\n",
       "      <td>2022-06-09</td>\n",
       "      <td>burned</td>\n",
       "      <td>quk-137</td>\n",
       "      <td>6</td>\n",
       "      <td>0.407599</td>\n",
       "      <td>-0.340281</td>\n",
       "    </tr>\n",
       "    <tr>\n",
       "      <th>3</th>\n",
       "      <td>1</td>\n",
       "      <td>2022-01-08</td>\n",
       "      <td>7</td>\n",
       "      <td>1</td>\n",
       "      <td>1929</td>\n",
       "      <td>2022-07-30</td>\n",
       "      <td>burned</td>\n",
       "      <td>QiG-754</td>\n",
       "      <td>8</td>\n",
       "      <td>0.407599</td>\n",
       "      <td>-0.340281</td>\n",
       "    </tr>\n",
       "    <tr>\n",
       "      <th>4</th>\n",
       "      <td>1</td>\n",
       "      <td>2022-01-08</td>\n",
       "      <td>7</td>\n",
       "      <td>1</td>\n",
       "      <td>2352</td>\n",
       "      <td>2023-03-24</td>\n",
       "      <td>subscribed</td>\n",
       "      <td>OtC-985</td>\n",
       "      <td>4</td>\n",
       "      <td>0.407599</td>\n",
       "      <td>-0.340281</td>\n",
       "    </tr>\n",
       "  </tbody>\n",
       "</table>\n",
       "</div>"
      ],
      "text/plain": [
       "   customer_id  join_date  city_id  gender_id  transaction_id  \\\n",
       "0            1 2022-01-08        7          1             178   \n",
       "1            1 2022-01-08        7          1             257   \n",
       "2            1 2022-01-08        7          1            1652   \n",
       "3            1 2022-01-08        7          1            1929   \n",
       "4            1 2022-01-08        7          1            2352   \n",
       "\n",
       "  transaction_date transaction_status coupon_name  branch_id  \\\n",
       "0       2022-07-30         subscribed     SrP-866          8   \n",
       "1       2022-09-19             burned     krI-075          1   \n",
       "2       2022-06-09             burned     quk-137          6   \n",
       "3       2022-07-30             burned     QiG-754          8   \n",
       "4       2023-03-24         subscribed     OtC-985          4   \n",
       "\n",
       "   transaction_count  burn_rate  \n",
       "0           0.407599  -0.340281  \n",
       "1           0.407599  -0.340281  \n",
       "2           0.407599  -0.340281  \n",
       "3           0.407599  -0.340281  \n",
       "4           0.407599  -0.340281  "
      ]
     },
     "execution_count": 52,
     "metadata": {},
     "output_type": "execute_result"
    }
   ],
   "source": [
    "# Step 4: Scaling Numerical Features\n",
    "from sklearn.preprocessing import StandardScaler\n",
    "\n",
    "# Select numerical features to scale\n",
    "numerical_features = ['transaction_count', 'burn_rate']\n",
    "\n",
    "# Initialize the scaler\n",
    "scaler = StandardScaler()\n",
    "\n",
    "# Fit and transform the numerical features\n",
    "processed_df[numerical_features] = scaler.fit_transform(processed_df[numerical_features])\n",
    "\n",
    "# Display the preprocessed data\n",
    "processed_df.head()"
   ]
  },
  {
   "cell_type": "code",
   "execution_count": 53,
   "id": "024db625",
   "metadata": {},
   "outputs": [],
   "source": [
    "selected_features = ['transaction_count', 'burn_rate']  # Transactional features"
   ]
  },
  {
   "cell_type": "code",
   "execution_count": 54,
   "id": "6dad42e3",
   "metadata": {},
   "outputs": [],
   "source": [
    "# The final dataset for clustering\n",
    "clustered_data = processed_df[selected_features]"
   ]
  },
  {
   "cell_type": "code",
   "execution_count": 55,
   "id": "9b370c2d",
   "metadata": {},
   "outputs": [
    {
     "data": {
      "text/html": [
       "<div>\n",
       "<style scoped>\n",
       "    .dataframe tbody tr th:only-of-type {\n",
       "        vertical-align: middle;\n",
       "    }\n",
       "\n",
       "    .dataframe tbody tr th {\n",
       "        vertical-align: top;\n",
       "    }\n",
       "\n",
       "    .dataframe thead th {\n",
       "        text-align: right;\n",
       "    }\n",
       "</style>\n",
       "<table border=\"1\" class=\"dataframe\">\n",
       "  <thead>\n",
       "    <tr style=\"text-align: right;\">\n",
       "      <th></th>\n",
       "      <th>transaction_count</th>\n",
       "      <th>burn_rate</th>\n",
       "    </tr>\n",
       "  </thead>\n",
       "  <tbody>\n",
       "    <tr>\n",
       "      <th>0</th>\n",
       "      <td>0.407599</td>\n",
       "      <td>-0.340281</td>\n",
       "    </tr>\n",
       "    <tr>\n",
       "      <th>1</th>\n",
       "      <td>0.407599</td>\n",
       "      <td>-0.340281</td>\n",
       "    </tr>\n",
       "    <tr>\n",
       "      <th>2</th>\n",
       "      <td>0.407599</td>\n",
       "      <td>-0.340281</td>\n",
       "    </tr>\n",
       "    <tr>\n",
       "      <th>3</th>\n",
       "      <td>0.407599</td>\n",
       "      <td>-0.340281</td>\n",
       "    </tr>\n",
       "    <tr>\n",
       "      <th>4</th>\n",
       "      <td>0.407599</td>\n",
       "      <td>-0.340281</td>\n",
       "    </tr>\n",
       "  </tbody>\n",
       "</table>\n",
       "</div>"
      ],
      "text/plain": [
       "   transaction_count  burn_rate\n",
       "0           0.407599  -0.340281\n",
       "1           0.407599  -0.340281\n",
       "2           0.407599  -0.340281\n",
       "3           0.407599  -0.340281\n",
       "4           0.407599  -0.340281"
      ]
     },
     "execution_count": 55,
     "metadata": {},
     "output_type": "execute_result"
    }
   ],
   "source": [
    "clustered_data.head()"
   ]
  },
  {
   "cell_type": "code",
   "execution_count": 56,
   "id": "8053a11c",
   "metadata": {},
   "outputs": [],
   "source": [
    "inertia = []\n",
    "silhouette_scores = []\n",
    "cluster_labels_list = []\n",
    "\n",
    "for k in range(2, 11):\n",
    "    kmeans = KMeans(n_clusters=k, random_state=42)    # Initialize K-Means with k clusters\n",
    "       \n",
    "    cluster_labels = kmeans.fit_predict(clustered_data)    # Fit the model and predict cluster labels for each customer\n",
    "    \n",
    "    cluster_labels_list.append(cluster_labels)    # Store the labels for each number of clusters\n",
    "    \n",
    "    inertia.append(kmeans.inertia_)    # Calculate inertia (sum of squared distances from each point to its assigned cluster center)\n",
    "    \n",
    "    silhouette_avg = silhouette_score(clustered_data, cluster_labels)    # Calculate the silhouette score\n",
    "    silhouette_scores.append(silhouette_avg)"
   ]
  },
  {
   "cell_type": "code",
   "execution_count": 57,
   "id": "b2677503",
   "metadata": {},
   "outputs": [
    {
     "data": {
      "text/plain": [
       "0.4353062847550859"
      ]
     },
     "execution_count": 57,
     "metadata": {},
     "output_type": "execute_result"
    }
   ],
   "source": [
    "silhouette_avg"
   ]
  },
  {
   "cell_type": "code",
   "execution_count": 58,
   "id": "e483c291",
   "metadata": {},
   "outputs": [
    {
     "data": {
      "image/png": "[encoded data removed]",
      "text/plain": [
       "<Figure size 576x360 with 1 Axes>"
      ]
     },
     "metadata": {
      "needs_background": "light"
     },
     "output_type": "display_data"
    }
   ],
   "source": [
    "# Step 3: Plot the elbow curve for inertia\n",
    "plt.figure(figsize=(8, 5))\n",
    "plt.plot(range(2, 11), inertia, marker='o', linestyle='--')\n",
    "plt.title('Elbow Method: Inertia vs. Number of Clusters')\n",
    "plt.xlabel('Number of Clusters')\n",
    "plt.ylabel('Inertia')\n",
    "plt.show()"
   ]
  },
  {
   "cell_type": "code",
   "execution_count": 59,
   "id": "1e00f7c6",
   "metadata": {},
   "outputs": [
    {
     "data": {
      "image/png": "[encoded data removed]",
      "text/plain": [
       "<Figure size 576x360 with 1 Axes>"
      ]
     },
     "metadata": {
      "needs_background": "light"
     },
     "output_type": "display_data"
    }
   ],
   "source": [
    "# Step 4: Plot silhouette scores\n",
    "plt.figure(figsize=(8, 5))\n",
    "plt.plot(range(2, 11), silhouette_scores, marker='o', linestyle='--', color='orange')\n",
    "plt.title('Silhouette Score vs. Number of Clusters')\n",
    "plt.xlabel('Number of Clusters')\n",
    "plt.ylabel('Silhouette Score')\n",
    "plt.show()"
   ]
  },
  {
   "cell_type": "code",
   "execution_count": 60,
   "id": "ccc50265",
   "metadata": {},
   "outputs": [],
   "source": [
    "optimal_k = 6  # based on the previous evaluation"
   ]
  },
  {
   "cell_type": "code",
   "execution_count": 61,
   "id": "252e26b1",
   "metadata": {},
   "outputs": [],
   "source": [
    "kmeans = KMeans(n_clusters=optimal_k, random_state=42)\n",
    "cluster_labels = kmeans.fit_predict(clustered_data)"
   ]
  },
  {
   "cell_type": "code",
   "execution_count": 62,
   "id": "551d6ac6",
   "metadata": {},
   "outputs": [],
   "source": [
    "processed_df['cluster'] = cluster_labels"
   ]
  },
  {
   "cell_type": "code",
   "execution_count": 63,
   "id": "4be9074f",
   "metadata": {},
   "outputs": [],
   "source": [
    "cluster_analysis = processed_df.groupby('cluster').mean()"
   ]
  },
  {
   "cell_type": "code",
   "execution_count": 64,
   "id": "cee744eb",
   "metadata": {},
   "outputs": [
    {
     "data": {
      "text/html": [
       "<div>\n",
       "<style scoped>\n",
       "    .dataframe tbody tr th:only-of-type {\n",
       "        vertical-align: middle;\n",
       "    }\n",
       "\n",
       "    .dataframe tbody tr th {\n",
       "        vertical-align: top;\n",
       "    }\n",
       "\n",
       "    .dataframe thead th {\n",
       "        text-align: right;\n",
       "    }\n",
       "</style>\n",
       "<table border=\"1\" class=\"dataframe\">\n",
       "  <thead>\n",
       "    <tr style=\"text-align: right;\">\n",
       "      <th></th>\n",
       "      <th>customer_id</th>\n",
       "      <th>city_id</th>\n",
       "      <th>gender_id</th>\n",
       "      <th>transaction_id</th>\n",
       "      <th>branch_id</th>\n",
       "      <th>transaction_count</th>\n",
       "      <th>burn_rate</th>\n",
       "    </tr>\n",
       "    <tr>\n",
       "      <th>cluster</th>\n",
       "      <th></th>\n",
       "      <th></th>\n",
       "      <th></th>\n",
       "      <th></th>\n",
       "      <th></th>\n",
       "      <th></th>\n",
       "      <th></th>\n",
       "    </tr>\n",
       "  </thead>\n",
       "  <tbody>\n",
       "    <tr>\n",
       "      <th>0</th>\n",
       "      <td>489.463731</td>\n",
       "      <td>11.000000</td>\n",
       "      <td>1.533679</td>\n",
       "      <td>2525.520725</td>\n",
       "      <td>5.391192</td>\n",
       "      <td>-0.927795</td>\n",
       "      <td>0.274817</td>\n",
       "    </tr>\n",
       "    <tr>\n",
       "      <th>1</th>\n",
       "      <td>480.404389</td>\n",
       "      <td>9.844828</td>\n",
       "      <td>1.521944</td>\n",
       "      <td>2528.691223</td>\n",
       "      <td>5.589342</td>\n",
       "      <td>-0.913342</td>\n",
       "      <td>-1.529712</td>\n",
       "    </tr>\n",
       "    <tr>\n",
       "      <th>2</th>\n",
       "      <td>530.465190</td>\n",
       "      <td>9.180380</td>\n",
       "      <td>1.424051</td>\n",
       "      <td>2515.506329</td>\n",
       "      <td>5.316456</td>\n",
       "      <td>1.731297</td>\n",
       "      <td>-0.238245</td>\n",
       "    </tr>\n",
       "    <tr>\n",
       "      <th>3</th>\n",
       "      <td>522.674419</td>\n",
       "      <td>10.014156</td>\n",
       "      <td>1.436805</td>\n",
       "      <td>2519.712841</td>\n",
       "      <td>5.689585</td>\n",
       "      <td>0.558554</td>\n",
       "      <td>0.656218</td>\n",
       "    </tr>\n",
       "    <tr>\n",
       "      <th>4</th>\n",
       "      <td>503.866455</td>\n",
       "      <td>9.930048</td>\n",
       "      <td>1.510334</td>\n",
       "      <td>2520.454690</td>\n",
       "      <td>5.689984</td>\n",
       "      <td>-0.798820</td>\n",
       "      <td>1.583826</td>\n",
       "    </tr>\n",
       "  </tbody>\n",
       "</table>\n",
       "</div>"
      ],
      "text/plain": [
       "         customer_id    city_id  gender_id  transaction_id  branch_id  \\\n",
       "cluster                                                                 \n",
       "0         489.463731  11.000000   1.533679     2525.520725   5.391192   \n",
       "1         480.404389   9.844828   1.521944     2528.691223   5.589342   \n",
       "2         530.465190   9.180380   1.424051     2515.506329   5.316456   \n",
       "3         522.674419  10.014156   1.436805     2519.712841   5.689585   \n",
       "4         503.866455   9.930048   1.510334     2520.454690   5.689984   \n",
       "\n",
       "         transaction_count  burn_rate  \n",
       "cluster                                \n",
       "0                -0.927795   0.274817  \n",
       "1                -0.913342  -1.529712  \n",
       "2                 1.731297  -0.238245  \n",
       "3                 0.558554   0.656218  \n",
       "4                -0.798820   1.583826  "
      ]
     },
     "execution_count": 64,
     "metadata": {},
     "output_type": "execute_result"
    }
   ],
   "source": [
    "cluster_analysis.head()"
   ]
  },
  {
   "cell_type": "code",
   "execution_count": 65,
   "id": "7a52ef4f",
   "metadata": {},
   "outputs": [
    {
     "name": "stdout",
     "output_type": "stream",
     "text": [
      "         customer_id    city_id  gender_id  transaction_id  branch_id  \\\n",
      "cluster                                                                 \n",
      "0         489.463731  11.000000   1.533679     2525.520725   5.391192   \n",
      "1         480.404389   9.844828   1.521944     2528.691223   5.589342   \n",
      "2         530.465190   9.180380   1.424051     2515.506329   5.316456   \n",
      "3         522.674419  10.014156   1.436805     2519.712841   5.689585   \n",
      "4         503.866455   9.930048   1.510334     2520.454690   5.689984   \n",
      "5         518.121642  10.249254   1.497761     2442.038060   5.488806   \n",
      "\n",
      "         transaction_count  burn_rate  \n",
      "cluster                                \n",
      "0                -0.927795   0.274817  \n",
      "1                -0.913342  -1.529712  \n",
      "2                 1.731297  -0.238245  \n",
      "3                 0.558554   0.656218  \n",
      "4                -0.798820   1.583826  \n",
      "5                 0.115551  -0.545417  \n"
     ]
    }
   ],
   "source": [
    "print(cluster_analysis)"
   ]
  },
  {
   "cell_type": "code",
   "execution_count": 66,
   "id": "00d06171",
   "metadata": {
    "scrolled": false
   },
   "outputs": [
    {
     "name": "stdout",
     "output_type": "stream",
     "text": [
      "Cluster Sizes:\n",
      " 5    1340\n",
      "3     989\n",
      "0     772\n",
      "1     638\n",
      "2     632\n",
      "4     629\n",
      "Name: cluster, dtype: int64\n"
     ]
    }
   ],
   "source": [
    "cluster_size = processed_df['cluster'].value_counts()\n",
    "print(\"Cluster Sizes:\\n\", cluster_size)"
   ]
  },
  {
   "cell_type": "code",
   "execution_count": 67,
   "id": "f2b1c16f",
   "metadata": {},
   "outputs": [
    {
     "data": {
      "image/png": "[encoded data removed]",
      "text/plain": [
       "<Figure size 720x432 with 1 Axes>"
      ]
     },
     "metadata": {
      "needs_background": "light"
     },
     "output_type": "display_data"
    }
   ],
   "source": [
    "# Step 6: Visualize the cluster distributions (Optional)\n",
    "import seaborn as sns\n",
    "plt.figure(figsize=(10, 6))\n",
    "sns.countplot(x='cluster', data=processed_df)\n",
    "plt.title('Distribution of Customers in Each Cluster')\n",
    "plt.xlabel('Cluster')\n",
    "plt.ylabel('Number of Customers')\n",
    "plt.show()"
   ]
  },
  {
   "cell_type": "code",
   "execution_count": null,
   "id": "d2455786",
   "metadata": {},
   "outputs": [],
   "source": []
  }
 ],
 "metadata": {
  "kernelspec": {
   "display_name": "Python 3 (ipykernel)",
   "language": "python",
   "name": "python3"
  },
  "language_info": {
   "codemirror_mode": {
    "name": "ipython",
    "version": 3
   },
   "file_extension": ".py",
   "mimetype": "text/x-python",
   "name": "python",
   "nbconvert_exporter": "python",
   "pygments_lexer": "ipython3",
   "version": "3.9.12"
  }
 },
 "nbformat": 4,
 "nbformat_minor": 5
}
